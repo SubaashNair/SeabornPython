import pandas as pd
import matplotlib.pyplot as plt
%matplotlib inline
import seaborn as sns

df = pd.read_csv("Pokemon.csv" ,index_col=0, encoding='latin')
df.head()
